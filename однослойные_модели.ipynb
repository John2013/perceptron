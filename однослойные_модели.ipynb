{
 "cells": [
  {
   "cell_type": "code",
   "execution_count": 5,
   "metadata": {
    "collapsed": true,
    "pycharm": {
     "is_executing": false
    }
   },
   "outputs": [],
   "source": [
    "from typing import Union\n",
    "import numpy as np"
   ]
  },
  {
   "cell_type": "code",
   "execution_count": 6,
   "outputs": [],
   "source": [
    "class Perceptron:\n",
    "    def __init__(self, w, b):\n",
    "        self.w: np.ndarray = w\n",
    "        self.b: float = b\n",
    "    \n",
    "    def vectorized_forward_pass(self, \n",
    "                                input_matrix: np.ndarray)-> np.ndarray:\n",
    "        return (input_matrix.dot(self.w) + self.b > 0).astype(int)\n",
    "    \n",
    "    def train_on_single_example(self, \n",
    "                                example: np.ndarray, \n",
    "                                y: np.ndarray):\n",
    "        diff = y - self.vectorized_forward_pass(example.T)\n",
    "        self.w += example * diff\n",
    "        self.b += diff\n",
    "    "
   ],
   "metadata": {
    "collapsed": false,
    "pycharm": {
     "name": "#%%\n",
     "is_executing": false
    }
   }
  },
  {
   "cell_type": "code",
   "execution_count": 7,
   "outputs": [],
   "source": [
    "input_matrix = np.random.random_sample((10, 10)) * 2 - 1\n",
    "n, m = input_matrix.shape\n",
    "w = np.random.random_sample((m, 1)) * 10\n",
    "b = 2\n",
    "\n",
    "perceptron = Perceptron(w,b)\n",
    "vf = perceptron.vectorized_forward_pass(input_matrix)\n",
    "assert vf.shape == (n, 1)"
   ],
   "metadata": {
    "collapsed": false,
    "pycharm": {
     "name": "#%%\n",
     "is_executing": false
    }
   }
  },
  {
   "cell_type": "code",
   "execution_count": 8,
   "outputs": [],
   "source": [
    "y = 1\n",
    "example = np.random.random_sample((m, 1)) * 2 -  1\n",
    "perceptron.train_on_single_example(example, y)"
   ],
   "metadata": {
    "collapsed": false,
    "pycharm": {
     "name": "#%%\n",
     "is_executing": false
    }
   }
  },
  {
   "cell_type": "code",
   "execution_count": 9,
   "outputs": [],
   "source": [
    "def sigmoid(x):\n",
    "    return 1 / (1 + np.math.e ** -x)"
   ],
   "metadata": {
    "collapsed": false,
    "pycharm": {
     "name": "#%%\n",
     "is_executing": false
    }
   }
  },
  {
   "cell_type": "code",
   "execution_count": 23,
   "outputs": [],
   "source": [
    "class Neuron:\n",
    "    def __init__(self, w, activation_function):\n",
    "        self.w: np.ndarray = w\n",
    "        self.activation_function = activation_function\n",
    "        \n",
    "    def summatory(self, input_matrix):\n",
    "        return input_matrix.dot(self.w)\n",
    "    \n",
    "    def activation(self, summatory_activation):\n",
    "        return self.activation_function(summatory_activation)\n",
    "    \n",
    "    def vectorized_forward_pass(self, input_matrix):\n",
    "        return self.activation(self.summatory(input_matrix))\n",
    "    \n",
    "    def update_mini_batch(self, X, y, learning_rate, eps):\n",
    "        gradient_j = self.vectorized_forward_pass(X)\n",
    "        delta_w = -learning_rate * gradient_j.T\n",
    "        new_w = self.w + delta_w\n",
    "        self.w = new_w\n",
    "        if delta_w.all() < eps:\n",
    "            return 1\n",
    "        return 0"
   ],
   "metadata": {
    "collapsed": false,
    "pycharm": {
     "name": "#%%\n",
     "is_executing": false
    }
   }
  },
  {
   "cell_type": "code",
   "execution_count": 19,
   "outputs": [],
   "source": [
    "# neuron = Neuron(w, sigmoid)\n",
    "# \n",
    "# neuron.vectorized_forward_pass(input_matrix)"
   ],
   "metadata": {
    "collapsed": false,
    "pycharm": {
     "name": "#%%\n",
     "is_executing": false
    }
   }
  },
  {
   "cell_type": "code",
   "execution_count": 26,
   "outputs": [
    {
     "name": "stdout",
     "text": [
      "[[-0.31003545 -0.32261141 -0.3225155  -0.32232658 -0.29979205 -0.32204476\n  -0.22265076 -0.22309154 -0.2236143  -0.32036143]\n [-0.54469196 -0.55726793 -0.55717202 -0.5569831  -0.53444857 -0.55670127\n  -0.45730728 -0.45774805 -0.45827082 -0.55501795]\n [ 0.57008499  0.55750903  0.55760493  0.55779386  0.58032839  0.55807568\n   0.65746968  0.6570289   0.65650614  0.55975901]\n [-0.37388337 -0.38645934 -0.38636343 -0.38617451 -0.36363998 -0.38589268\n  -0.28649869 -0.28693946 -0.28746223 -0.38420936]\n [-0.52552101 -0.53809697 -0.53800106 -0.53781214 -0.51527761 -0.53753032\n  -0.43813632 -0.4385771  -0.43909986 -0.53584699]]\n"
     ],
     "output_type": "stream"
    }
   ],
   "source": [
    "np.random.seed(42)\n",
    "n = 10\n",
    "m = 5\n",
    "\n",
    "X = 20 * np.random.sample((n, m)) - 10\n",
    "y = (np.random.random(n) < 0.5).astype(np.int)[:, np.newaxis]\n",
    "w = 2 * np.random.random((m, 1)) - 1\n",
    "\n",
    "neuron = Neuron(w, sigmoid)\n",
    "res = neuron.update_mini_batch(X, y, 0.1, 1e-5)\n",
    "print(neuron.w)\n"
   ],
   "metadata": {
    "collapsed": false,
    "pycharm": {
     "name": "#%%\n",
     "is_executing": false
    }
   }
  }
 ],
 "metadata": {
  "kernelspec": {
   "display_name": "Python 3",
   "language": "python",
   "name": "python3"
  },
  "language_info": {
   "codemirror_mode": {
    "name": "ipython",
    "version": 2
   },
   "file_extension": ".py",
   "mimetype": "text/x-python",
   "name": "python",
   "nbconvert_exporter": "python",
   "pygments_lexer": "ipython2",
   "version": "2.7.6"
  },
  "pycharm": {
   "stem_cell": {
    "cell_type": "raw",
    "source": [],
    "metadata": {
     "collapsed": false
    }
   }
  }
 },
 "nbformat": 4,
 "nbformat_minor": 0
}
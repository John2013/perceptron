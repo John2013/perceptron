{
 "cells": [
  {
   "cell_type": "code",
   "execution_count": 5,
   "metadata": {
    "collapsed": true,
    "pycharm": {
     "is_executing": false
    }
   },
   "outputs": [],
   "source": [
    "from typing import Union\n",
    "import numpy as np"
   ]
  },
  {
   "cell_type": "code",
   "execution_count": 6,
   "outputs": [],
   "source": [
    "class Perceptron:\n",
    "    def __init__(self, w, b):\n",
    "        self.w: np.ndarray = w\n",
    "        self.b: float = b\n",
    "    \n",
    "    def vectorized_forward_pass(self, \n",
    "                                input_matrix: np.ndarray)-> np.ndarray:\n",
    "        return (input_matrix.dot(self.w) + self.b > 0).astype(int)\n",
    "    \n",
    "    def train_on_single_example(self, \n",
    "                                example: np.ndarray, \n",
    "                                y: np.ndarray):\n",
    "        diff = y - self.vectorized_forward_pass(example.T)\n",
    "        self.w += example * diff\n",
    "        self.b += diff\n",
    "    "
   ],
   "metadata": {
    "collapsed": false,
    "pycharm": {
     "name": "#%%\n",
     "is_executing": false
    }
   }
  },
  {
   "cell_type": "code",
   "execution_count": 7,
   "outputs": [],
   "source": [
    "input_matrix = np.random.random_sample((10, 10)) * 2 - 1\n",
    "n, m = input_matrix.shape\n",
    "w = np.random.random_sample((m, 1)) * 10\n",
    "b = 2\n",
    "\n",
    "perceptron = Perceptron(w,b)\n",
    "vf = perceptron.vectorized_forward_pass(input_matrix)\n",
    "assert vf.shape == (n, 1)"
   ],
   "metadata": {
    "collapsed": false,
    "pycharm": {
     "name": "#%%\n",
     "is_executing": false
    }
   }
  },
  {
   "cell_type": "code",
   "execution_count": 8,
   "outputs": [],
   "source": [
    "y = 1\n",
    "example = np.random.random_sample((m, 1)) * 2 -  1\n",
    "perceptron.train_on_single_example(example, y)"
   ],
   "metadata": {
    "collapsed": false,
    "pycharm": {
     "name": "#%%\n",
     "is_executing": false
    }
   }
  },
  {
   "cell_type": "code",
   "execution_count": 9,
   "outputs": [],
   "source": [
    "def sigmoid(x):\n",
    "    return 1 / (1 + np.math.e ** -x)"
   ],
   "metadata": {
    "collapsed": false,
    "pycharm": {
     "name": "#%%\n",
     "is_executing": false
    }
   }
  },
  {
   "cell_type": "code",
   "execution_count": 10,
   "outputs": [],
   "source": [
    "class Neuron:\n",
    "    def __init__(self, w, activation_function):\n",
    "        self.w: np.ndarray = w\n",
    "        self.activation_function = activation_function\n",
    "        \n",
    "    def summatory(self, input_matrix):\n",
    "        return input_matrix.dot(self.w)\n",
    "    \n",
    "    def activation(self, summatory_activation):\n",
    "        return self.activation_function(summatory_activation)\n",
    "    \n",
    "    def vectorized_forward_pass(self, input_matrix):\n",
    "        return self.activation(self.summatory(input_matrix))\n",
    "    \n",
    "    def update_mini_batch(self, X, y, learning_rate, eps):\n",
    "        pass"
   ],
   "metadata": {
    "collapsed": false,
    "pycharm": {
     "name": "#%%\n",
     "is_executing": false
    }
   }
  },
  {
   "cell_type": "code",
   "execution_count": 12,
   "outputs": [
    {
     "data": {
      "text/plain": "array([[9.59555269e-01],\n       [5.28552470e-01],\n       [4.62159338e-03],\n       [2.24047706e-07],\n       [2.60978025e-04],\n       [9.41816882e-01],\n       [1.12760434e-05],\n       [6.63789525e-01],\n       [5.09220434e-01],\n       [9.99887433e-01]])"
     },
     "metadata": {},
     "output_type": "execute_result",
     "execution_count": 12
    }
   ],
   "source": [
    "neuron = Neuron(w, sigmoid)\n",
    "\n",
    "neuron.vectorized_forward_pass(input_matrix)"
   ],
   "metadata": {
    "collapsed": false,
    "pycharm": {
     "name": "#%%\n",
     "is_executing": false
    }
   }
  },
  {
   "cell_type": "code",
   "execution_count": null,
   "outputs": [],
   "source": [
    "np.random.seed(42)\n",
    "n = 10\n",
    "m = 5\n",
    "\n",
    "X = 20 * np.random.sample((n, m)) - 10\n",
    "y = (np.random.random(n) < 0.5).astype(np.int)[:, np.newaxis]\n",
    "w = 2 * np.random.random((m, 1)) - 1\n",
    "\n",
    "neuron = Neuron(w, sigmoid)\n",
    "neuron.update_mini_batch(X, y, 0.1, 1e-5)\n"
   ],
   "metadata": {
    "collapsed": false,
    "pycharm": {
     "name": "#%%\n"
    }
   }
  }
 ],
 "metadata": {
  "kernelspec": {
   "display_name": "Python 3",
   "language": "python",
   "name": "python3"
  },
  "language_info": {
   "codemirror_mode": {
    "name": "ipython",
    "version": 2
   },
   "file_extension": ".py",
   "mimetype": "text/x-python",
   "name": "python",
   "nbconvert_exporter": "python",
   "pygments_lexer": "ipython2",
   "version": "2.7.6"
  },
  "pycharm": {
   "stem_cell": {
    "cell_type": "raw",
    "source": [],
    "metadata": {
     "collapsed": false
    }
   }
  }
 },
 "nbformat": 4,
 "nbformat_minor": 0
}